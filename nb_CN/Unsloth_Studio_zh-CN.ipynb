{
  "cells": [
    {
      "cell_type": "code",
      "execution_count": null,
      "metadata": {
        "cellView": "form",
        "id": "Nz4odU5XYDDw"
      },
      "outputs": [],
      "source": [
        "# @Title↙️按▶开始🦥lama-3.1 8b\n",
        "\n",
        "# 不整洁的工作室\n",
        "# 版权所有（C）2024-Tresent unsploth AI团队。版权所有。\n",
        "\n",
        "# 该程序是免费的软件：您可以重新分配它和/或修改\n",
        "# 它按照GNU Affero通用公共许可证的条款发布\n",
        "# 由免费软件基金会（许可证的第3版）或\n",
        "# （您可以选择）任何以后的版本。\n",
        "\n",
        "# 该程序的分布是希望它将有用的\n",
        "# 但是没有任何保证；甚至没有暗示的保证\n",
        "# 适合或适合特定目的的健身。  看到\n",
        "# GNU AFFERO通用公共许可证以获取更多详细信息。\n",
        "\n",
        "# 您应该已经收到了GNU Affero通用公共许可证的副本\n",
        "# 以及这个程序。  如果不是，请参见<https://www.gnu.org/licenses/>。\n",
        "!git clone https://github.com/unslothai/studio > /dev/null 2>&1\n",
        "with open(\"studio/unsloth_studio/chat.py\", \"r\") as chat_module:\n",
        "    code = chat_module.read()\n",
        "exec(code)"
      ]
    },
    {
      "cell_type": "markdown",
      "metadata": {},
      "source": [
        "我们完成了！如果您对不舒服有任何疑问，我们有一个XX_MarkDown_link_xx频道！如果您发现任何错误或想对最新的LLM内容进行更新，或者需要帮助，加入项目等，请随时加入我们的不和谐！\n",
        "\n",
        "其他一些链接：\n",
        "1。训练您自己的推理模型-Llama grpo笔记本XX_Markdown_link_xx-grpo.ipynb）\n",
        "2。将芬太尼保存到奥尔马。 [Discord](https://discord.gg/unsloth)-ollama.ipynb）\n",
        "3。Llama3.2视觉燃烧 -  X射线照相用例。 [Free Colab](https://colab.research.google.com/github/unslothai/notebooks/blob/main/nb/Llama3.1_(8B)-vision.ipynb）\n",
        "6。请参见DPO，ORPO，继续预处理，对话finetuning等笔记本，以及我们的xx_markDown_link_xx上的更多内容！\n",
        "\n",
        "<div class =“ Align-Center”>\n",
        "  <a href =“ https://unsloth.ai”> <img src =“ https://github.com/unslothai/unslothai/unsloth/raw/raw/main/main/images/unsloth%20new%20new%20logo.png”\n",
        "  <a href =“ https://discord.gg/unsloth”> <img src =“ https://github.com/unslothai/unsloth/unsloth/raw/main/main/main/images/images/discord.png，png\n",
        "  <a href =“ https://docs.unsloth.ai/”> <img src =“ https://github.com/unslothai/unslothai/unsloth/unsloth/main/main/main/images/images/images/documentation%20green%20green%20breen%20button.png?png?png?raw=true width =”\n",
        "\n",
        "  如果您需要帮助，请加入DISCORD +⭐️<i>在<a href =“ https://github.com/unslothai/unsloth上”\n",
        "</div>\n"
      ]
    }
  ],
  "metadata": {
    "accelerator": "GPU",
    "colab": {
      "gpuType": "T4",
      "provenance": []
    },
    "kernelspec": {
      "display_name": "Python 3",
      "name": "python3"
    },
    "language_info": {
      "name": "python"
    },
    "widgets": {
      "application/vnd.jupyter.widget-state+json": {
        "state": {}
      }
    }
  },
  "nbformat": 4,
  "nbformat_minor": 0
}